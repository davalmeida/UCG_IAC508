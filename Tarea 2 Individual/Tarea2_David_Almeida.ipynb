{
 "cells": [
  {
   "cell_type": "markdown",
   "metadata": {},
   "source": [
    "# Tarea 2\n",
    "\n",
    "## Parte 1: Carga y Exploración Inicial\n",
    "\n",
    "* Cargar los Datos: Carga el archivo CSV desde la URL proporcionada en un DataFrame de Pandas.\n",
    "\n",
    "Inspección Inicial:\n",
    "* Muestra las primeras 5 filas del DataFrame usando .head().\n",
    "* Utiliza .info() para obtener un resumen de las columnas y sus tipos de datos.\n",
    "* En una celda de Markdown, escribe una breve observación sobre los datos (ej: ¿Cuántos registros hay?, ¿los tipos de datos son correctos?)."
   ]
  },
  {
   "cell_type": "code",
   "execution_count": 1,
   "metadata": {},
   "outputs": [
    {
     "data": {
      "text/html": [
       "<div>\n",
       "<style scoped>\n",
       "    .dataframe tbody tr th:only-of-type {\n",
       "        vertical-align: middle;\n",
       "    }\n",
       "\n",
       "    .dataframe tbody tr th {\n",
       "        vertical-align: top;\n",
       "    }\n",
       "\n",
       "    .dataframe thead th {\n",
       "        text-align: right;\n",
       "    }\n",
       "</style>\n",
       "<table border=\"1\" class=\"dataframe\">\n",
       "  <thead>\n",
       "    <tr style=\"text-align: right;\">\n",
       "      <th></th>\n",
       "      <th>Name</th>\n",
       "      <th>Author</th>\n",
       "      <th>User Rating</th>\n",
       "      <th>Reviews</th>\n",
       "      <th>Price</th>\n",
       "      <th>Year</th>\n",
       "      <th>Genre</th>\n",
       "    </tr>\n",
       "  </thead>\n",
       "  <tbody>\n",
       "    <tr>\n",
       "      <th>0</th>\n",
       "      <td>10-Day Green Smoothie Cleanse</td>\n",
       "      <td>JJ Smith</td>\n",
       "      <td>4.7</td>\n",
       "      <td>17350</td>\n",
       "      <td>8</td>\n",
       "      <td>2016</td>\n",
       "      <td>Non Fiction</td>\n",
       "    </tr>\n",
       "    <tr>\n",
       "      <th>1</th>\n",
       "      <td>11/22/63: A Novel</td>\n",
       "      <td>Stephen King</td>\n",
       "      <td>4.6</td>\n",
       "      <td>2052</td>\n",
       "      <td>22</td>\n",
       "      <td>2011</td>\n",
       "      <td>Fiction</td>\n",
       "    </tr>\n",
       "    <tr>\n",
       "      <th>2</th>\n",
       "      <td>12 Rules for Life: An Antidote to Chaos</td>\n",
       "      <td>Jordan B. Peterson</td>\n",
       "      <td>4.7</td>\n",
       "      <td>18979</td>\n",
       "      <td>15</td>\n",
       "      <td>2018</td>\n",
       "      <td>Non Fiction</td>\n",
       "    </tr>\n",
       "    <tr>\n",
       "      <th>3</th>\n",
       "      <td>1984 (Signet Classics)</td>\n",
       "      <td>George Orwell</td>\n",
       "      <td>4.7</td>\n",
       "      <td>21424</td>\n",
       "      <td>6</td>\n",
       "      <td>2017</td>\n",
       "      <td>Fiction</td>\n",
       "    </tr>\n",
       "    <tr>\n",
       "      <th>4</th>\n",
       "      <td>5,000 Awesome Facts (About Everything!) (Natio...</td>\n",
       "      <td>National Geographic Kids</td>\n",
       "      <td>4.8</td>\n",
       "      <td>7665</td>\n",
       "      <td>12</td>\n",
       "      <td>2019</td>\n",
       "      <td>Non Fiction</td>\n",
       "    </tr>\n",
       "  </tbody>\n",
       "</table>\n",
       "</div>"
      ],
      "text/plain": [
       "                                                Name  \\\n",
       "0                      10-Day Green Smoothie Cleanse   \n",
       "1                                  11/22/63: A Novel   \n",
       "2            12 Rules for Life: An Antidote to Chaos   \n",
       "3                             1984 (Signet Classics)   \n",
       "4  5,000 Awesome Facts (About Everything!) (Natio...   \n",
       "\n",
       "                     Author  User Rating  Reviews  Price  Year        Genre  \n",
       "0                  JJ Smith          4.7    17350      8  2016  Non Fiction  \n",
       "1              Stephen King          4.6     2052     22  2011      Fiction  \n",
       "2        Jordan B. Peterson          4.7    18979     15  2018  Non Fiction  \n",
       "3             George Orwell          4.7    21424      6  2017      Fiction  \n",
       "4  National Geographic Kids          4.8     7665     12  2019  Non Fiction  "
      ]
     },
     "execution_count": 1,
     "metadata": {},
     "output_type": "execute_result"
    }
   ],
   "source": [
    "import pandas as pd\n",
    "\n",
    "url = 'https://raw.githubusercontent.com/aiplanethub/Datasets/refs/heads/master/Amazon%20Top%2050%20Bestselling%20Books%202009%20-%202019.csv'\n",
    "df = pd.read_csv(url)\n",
    "df.head()"
   ]
  },
  {
   "cell_type": "code",
   "execution_count": 2,
   "metadata": {},
   "outputs": [
    {
     "name": "stdout",
     "output_type": "stream",
     "text": [
      "<class 'pandas.core.frame.DataFrame'>\n",
      "RangeIndex: 550 entries, 0 to 549\n",
      "Data columns (total 7 columns):\n",
      " #   Column       Non-Null Count  Dtype  \n",
      "---  ------       --------------  -----  \n",
      " 0   Name         550 non-null    object \n",
      " 1   Author       550 non-null    object \n",
      " 2   User Rating  550 non-null    float64\n",
      " 3   Reviews      550 non-null    int64  \n",
      " 4   Price        550 non-null    int64  \n",
      " 5   Year         550 non-null    int64  \n",
      " 6   Genre        550 non-null    object \n",
      "dtypes: float64(1), int64(3), object(3)\n",
      "memory usage: 30.2+ KB\n"
     ]
    }
   ],
   "source": [
    "df.info()"
   ]
  },
  {
   "cell_type": "markdown",
   "metadata": {},
   "source": [
    "### Observaciones sobre los datos\n",
    "\n",
    "- El DataFrame contiene **550 registros** y **7 columnas**.\n",
    "- Las columnas son: Name, Author, User Rating, Reviews, Price, Year y Genre.\n",
    "- Los tipos de datos son apropiados: texto para los nombres y autores, numéricos para calificaciones, reseñas, precio y año.\n",
    "- No hay valores nulos en ninguna columna.\n",
    "- El dataset incluye información sobre los 50 libros más vendidos de Amazon entre 2009 y 2019, con detalles como autor, género, calificación de usuario, número de reseñas, precio y año."
   ]
  },
  {
   "cell_type": "markdown",
   "metadata": {},
   "source": [
    "## Parte 2: Análisis con Programación Funcional\n",
    "\n",
    "1. Uso de map para Crear una Nueva Columna:"
   ]
  },
  {
   "cell_type": "code",
   "execution_count": 9,
   "metadata": {},
   "outputs": [
    {
     "name": "stdout",
     "output_type": "stream",
     "text": [
      "Nueva columna 'Rating Label' creada:\n"
     ]
    },
    {
     "data": {
      "text/html": [
       "<div>\n",
       "<style scoped>\n",
       "    .dataframe tbody tr th:only-of-type {\n",
       "        vertical-align: middle;\n",
       "    }\n",
       "\n",
       "    .dataframe tbody tr th {\n",
       "        vertical-align: top;\n",
       "    }\n",
       "\n",
       "    .dataframe thead th {\n",
       "        text-align: right;\n",
       "    }\n",
       "</style>\n",
       "<table border=\"1\" class=\"dataframe\">\n",
       "  <thead>\n",
       "    <tr style=\"text-align: right;\">\n",
       "      <th></th>\n",
       "      <th>Name</th>\n",
       "      <th>User Rating</th>\n",
       "      <th>Rating Label</th>\n",
       "    </tr>\n",
       "  </thead>\n",
       "  <tbody>\n",
       "    <tr>\n",
       "      <th>0</th>\n",
       "      <td>10-Day Green Smoothie Cleanse</td>\n",
       "      <td>4.7</td>\n",
       "      <td>Excellent</td>\n",
       "    </tr>\n",
       "    <tr>\n",
       "      <th>1</th>\n",
       "      <td>11/22/63: A Novel</td>\n",
       "      <td>4.6</td>\n",
       "      <td>Excellent</td>\n",
       "    </tr>\n",
       "    <tr>\n",
       "      <th>2</th>\n",
       "      <td>12 Rules for Life: An Antidote to Chaos</td>\n",
       "      <td>4.7</td>\n",
       "      <td>Excellent</td>\n",
       "    </tr>\n",
       "    <tr>\n",
       "      <th>3</th>\n",
       "      <td>1984 (Signet Classics)</td>\n",
       "      <td>4.7</td>\n",
       "      <td>Excellent</td>\n",
       "    </tr>\n",
       "    <tr>\n",
       "      <th>4</th>\n",
       "      <td>5,000 Awesome Facts (About Everything!) (Natio...</td>\n",
       "      <td>4.8</td>\n",
       "      <td>Excellent</td>\n",
       "    </tr>\n",
       "  </tbody>\n",
       "</table>\n",
       "</div>"
      ],
      "text/plain": [
       "                                                Name  User Rating Rating Label\n",
       "0                      10-Day Green Smoothie Cleanse          4.7    Excellent\n",
       "1                                  11/22/63: A Novel          4.6    Excellent\n",
       "2            12 Rules for Life: An Antidote to Chaos          4.7    Excellent\n",
       "3                             1984 (Signet Classics)          4.7    Excellent\n",
       "4  5,000 Awesome Facts (About Everything!) (Natio...          4.8    Excellent"
      ]
     },
     "execution_count": 9,
     "metadata": {},
     "output_type": "execute_result"
    }
   ],
   "source": [
    "# Crear una nueva columna 'Rating Label' usando map\n",
    "def get_rating_label(rating):\n",
    "    if rating >= 4.5:\n",
    "        return 'Excellent'\n",
    "    elif rating >= 4.0:\n",
    "        return 'Good'\n",
    "    elif rating >= 3.5:\n",
    "        return 'Average'\n",
    "    else:\n",
    "        return 'Poor'\n",
    "\n",
    "# Aplicar la función usando map\n",
    "df['Rating Label'] = list(map(get_rating_label, df['User Rating']))\n",
    "\n",
    "# Mostrar las primeras filas para verificar\n",
    "print(\"Nueva columna 'Rating Label' creada:\")\n",
    "df[['Name', 'User Rating', 'Rating Label']].head(5)"
   ]
  },
  {
   "cell_type": "code",
   "execution_count": 8,
   "metadata": {},
   "outputs": [
    {
     "name": "stdout",
     "output_type": "stream",
     "text": [
      "Nueva columna 'Rating Label' creada con lambda:\n"
     ]
    },
    {
     "data": {
      "text/html": [
       "<div>\n",
       "<style scoped>\n",
       "    .dataframe tbody tr th:only-of-type {\n",
       "        vertical-align: middle;\n",
       "    }\n",
       "\n",
       "    .dataframe tbody tr th {\n",
       "        vertical-align: top;\n",
       "    }\n",
       "\n",
       "    .dataframe thead th {\n",
       "        text-align: right;\n",
       "    }\n",
       "</style>\n",
       "<table border=\"1\" class=\"dataframe\">\n",
       "  <thead>\n",
       "    <tr style=\"text-align: right;\">\n",
       "      <th></th>\n",
       "      <th>Name</th>\n",
       "      <th>User Rating</th>\n",
       "      <th>Rating Label</th>\n",
       "    </tr>\n",
       "  </thead>\n",
       "  <tbody>\n",
       "    <tr>\n",
       "      <th>0</th>\n",
       "      <td>10-Day Green Smoothie Cleanse</td>\n",
       "      <td>4.7</td>\n",
       "      <td>Excelente</td>\n",
       "    </tr>\n",
       "    <tr>\n",
       "      <th>1</th>\n",
       "      <td>11/22/63: A Novel</td>\n",
       "      <td>4.6</td>\n",
       "      <td>Bueno</td>\n",
       "    </tr>\n",
       "    <tr>\n",
       "      <th>2</th>\n",
       "      <td>12 Rules for Life: An Antidote to Chaos</td>\n",
       "      <td>4.7</td>\n",
       "      <td>Excelente</td>\n",
       "    </tr>\n",
       "    <tr>\n",
       "      <th>3</th>\n",
       "      <td>1984 (Signet Classics)</td>\n",
       "      <td>4.7</td>\n",
       "      <td>Excelente</td>\n",
       "    </tr>\n",
       "    <tr>\n",
       "      <th>4</th>\n",
       "      <td>5,000 Awesome Facts (About Everything!) (Natio...</td>\n",
       "      <td>4.8</td>\n",
       "      <td>Excelente</td>\n",
       "    </tr>\n",
       "  </tbody>\n",
       "</table>\n",
       "</div>"
      ],
      "text/plain": [
       "                                                Name  User Rating Rating Label\n",
       "0                      10-Day Green Smoothie Cleanse          4.7    Excelente\n",
       "1                                  11/22/63: A Novel          4.6        Bueno\n",
       "2            12 Rules for Life: An Antidote to Chaos          4.7    Excelente\n",
       "3                             1984 (Signet Classics)          4.7    Excelente\n",
       "4  5,000 Awesome Facts (About Everything!) (Natio...          4.8    Excelente"
      ]
     },
     "execution_count": 8,
     "metadata": {},
     "output_type": "execute_result"
    }
   ],
   "source": [
    "# Usar map con lambda para crear etiquetas de calificación\n",
    "df['Rating Label'] = list(map(lambda rating: \"Excelente\" \n",
    "if rating >= 4.7 \n",
    "else \"Bueno\", df['User Rating']))\n",
    "\n",
    "# Mostrar las primeras filas para verificar\n",
    "print(\"Nueva columna 'Rating Label' creada con lambda:\")\n",
    "df[['Name', 'User Rating', 'Rating Label']].head(5)"
   ]
  },
  {
   "cell_type": "markdown",
   "metadata": {},
   "source": [
    "2. Uso de filter para Seleccionar Libros de Élite"
   ]
  },
  {
   "cell_type": "code",
   "execution_count": 11,
   "metadata": {},
   "outputs": [
    {
     "name": "stdout",
     "output_type": "stream",
     "text": [
      "Número de libros que cumplen las condiciones: 62\n",
      "Precios de los libros de no ficción con rating >= 4.8: [12, 13, 24, 11, 11, 15, 18, 4, 5, 10, 7, 54, 11, 4, 22, 15, 15, 17, 7, 12, 8, 8, 8, 8, 8, 8, 6, 8, 15, 16, 27, 16, 11, 22, 20, 20, 6, 6, 16, 8, 8, 8, 8, 8, 12, 12, 12, 12, 0, 13, 5, 17, 14, 21, 16, 16, 16, 13, 16, 11, 4, 14]\n"
     ]
    }
   ],
   "source": [
    "# Crear lista de precios usando filter para libros de no ficción con rating >= 4.8\n",
    "precios_libros_elite = list(filter(\n",
    "    lambda x: x['Genre'] == 'Non Fiction' and x['User Rating'] >= 4.8,\n",
    "    df.to_dict('records')\n",
    "))\n",
    "\n",
    "# Extraer solo los precios de la lista filtrada\n",
    "precios = [libro['Price'] for libro in precios_libros_elite]\n",
    "\n",
    "print(f\"Número de libros que cumplen las condiciones: {len(precios)}\")\n",
    "print(f\"Precios de los libros de no ficción con rating >= 4.8: {precios}\")\n",
    "#print(f\"Precio promedio: {sum(precios)/len(precios):.2f}\")"
   ]
  },
  {
   "cell_type": "code",
   "execution_count": 12,
   "metadata": {},
   "outputs": [
    {
     "name": "stdout",
     "output_type": "stream",
     "text": [
      "Número de libros que cumplen las condiciones: 62\n",
      "Precios de los libros de no ficción con rating >= 4.8: [12, 13, 24, 11, 11, 15, 18, 4, 5, 10, 7, 54, 11, 4, 22, 15, 15, 17, 7, 12, 8, 8, 8, 8, 8, 8, 6, 8, 15, 16, 27, 16, 11, 22, 20, 20, 6, 6, 16, 8, 8, 8, 8, 8, 12, 12, 12, 12, 0, 13, 5, 17, 14, 21, 16, 16, 16, 13, 16, 11, 4, 14]\n"
     ]
    }
   ],
   "source": [
    "# Crear lista de precios usando filter para libros de no ficción con rating >= 4.8\n",
    "precios_libros_elite = list(filter(\n",
    "    lambda x: x['Genre'] == 'Non Fiction' and x['User Rating'] >= 4.8,\n",
    "    df.to_dict('records')\n",
    "))\n",
    "\n",
    "# Extraer solo los precios de la lista filtrada\n",
    "precios = [libro['Price'] for libro in precios_libros_elite]\n",
    "\n",
    "print(f\"Número de libros que cumplen las condiciones: {len(precios)}\")\n",
    "print(f\"Precios de los libros de no ficción con rating >= 4.8: {precios}\")"
   ]
  },
  {
   "cell_type": "markdown",
   "metadata": {},
   "source": [
    "## Parte 3: Aplicando Programación Orientada a Objetos (POO)\n",
    "\n",
    "1. Crear la Clase Book:\n",
    "\n"
   ]
  },
  {
   "cell_type": "code",
   "execution_count": 13,
   "metadata": {},
   "outputs": [
    {
     "name": "stdout",
     "output_type": "stream",
     "text": [
      "Título: \"1984\", Autor: George Orwell, Precio: $8\n",
      "¿Es altamente calificado? True\n"
     ]
    }
   ],
   "source": [
    "class Book:\n",
    "    def __init__(self, name, author, price, rating):\n",
    "        self.name = name\n",
    "        self.author = author\n",
    "        self.price = price\n",
    "        self.rating = rating\n",
    "    \n",
    "    def display_info(self):\n",
    "        return f'Título: \"{self.name}\", Autor: {self.author}, Precio: ${self.price}'\n",
    "    \n",
    "    def is_highly_rated(self, threshold=4.7):\n",
    "        return self.rating >= threshold\n",
    "\n",
    "# Ejemplo de uso\n",
    "libro_ejemplo = Book(\"1984\", \"George Orwell\", 8, 4.7)\n",
    "print(libro_ejemplo.display_info())\n",
    "print(f\"¿Es altamente calificado? {libro_ejemplo.is_highly_rated()}\")"
   ]
  },
  {
   "cell_type": "code",
   "execution_count": 16,
   "metadata": {},
   "outputs": [
    {
     "name": "stdout",
     "output_type": "stream",
     "text": [
      "Libro seleccionado del DataFrame:\n",
      "Título: \"A Game of Thrones / A Clash of Kings / A Storm of Swords / A Feast of Crows / A Dance with Dragons\", Autor: George R. R. Martin, Precio: $30\n",
      "¿Es altamente calificado? True\n",
      "Rating: 4.7\n"
     ]
    }
   ],
   "source": [
    "# Elegir el primer libro del DataFrame\n",
    "primer_libro = df.iloc[6]\n",
    "libro_objeto = Book(\n",
    "    name=primer_libro['Name'],\n",
    "    author=primer_libro['Author'],\n",
    "    price=primer_libro['Price'],\n",
    "    rating=primer_libro['User Rating']\n",
    ")\n",
    "\n",
    "print(\"Libro seleccionado del DataFrame:\")\n",
    "print(libro_objeto.display_info())\n",
    "print(f\"¿Es altamente calificado? {libro_objeto.is_highly_rated()}\")\n",
    "print(f\"Rating: {libro_objeto.rating}\")"
   ]
  }
 ],
 "metadata": {
  "kernelspec": {
   "display_name": "Python 3",
   "language": "python",
   "name": "python3"
  },
  "language_info": {
   "codemirror_mode": {
    "name": "ipython",
    "version": 3
   },
   "file_extension": ".py",
   "mimetype": "text/x-python",
   "name": "python",
   "nbconvert_exporter": "python",
   "pygments_lexer": "ipython3",
   "version": "3.11.13"
  }
 },
 "nbformat": 4,
 "nbformat_minor": 2
}
